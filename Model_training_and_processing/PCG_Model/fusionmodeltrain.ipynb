{
 "cells": [
  {
   "cell_type": "code",
   "execution_count": 19,
   "id": "c2f4c4bf-053d-46f6-bbbf-f813c48d0ae2",
   "metadata": {},
   "outputs": [],
   "source": [
    "import torch\n",
    "import torch.nn as nn\n",
    "import torch.optim as optim\n",
    "import numpy as np\n",
    "from sklearn.model_selection import train_test_split\n"
   ]
  },
  {
   "cell_type": "code",
   "execution_count": 20,
   "id": "b05a0ac7-1be2-464f-8a86-02991cd5fad1",
   "metadata": {},
   "outputs": [],
   "source": [
    "\n",
    "def train_fusion_model(ecg_data, ppg_data, pcg_data, labels, learning_rate=0.001, num_epochs=50):\n",
    "    # Convert to numpy arrays\n",
    "    ecg_data, ppg_data, pcg_data, labels = np.array(ecg_data), np.array(ppg_data), np.array(pcg_data), np.array(labels)\n",
    "     # Combine features\n",
    "    fusion_features = np.hstack((ecg_data, ppg_data, pcg_data))\n",
    "       \n",
    "    # Split into train and test\n",
    "    X_train, X_test, y_train, y_test = train_test_split(fusion_features, labels, test_size=0.2, random_state=42)\n",
    "    \n",
    "    # Convert to PyTorch tensors\n",
    "    X_train, X_test = torch.tensor(X_train, dtype=torch.float32), torch.tensor(X_test, dtype=torch.float32)\n",
    "    y_train, y_test = torch.tensor(y_train, dtype=torch.long), torch.tensor(y_test, dtype=torch.long)\n",
    "    \n",
    "    # Define model\n",
    "    input_size = X_train.shape[1]\n",
    "    model = FusionNN(input_size=input_size, num_classes=4)  # Adjust num_classes based on final labels\n",
    "    optimizer = optim.Adam(model.parameters(), lr=learning_rate)\n",
    "    criterion = nn.CrossEntropyLoss()\n",
    " \n",
    "    # Define model\n",
    "    input_size = X_train.shape[1]\n",
    "    model = FusionNN(input_size=input_size, num_classes=4)  # Adjust num_classes based on final labels\n",
    "    optimizer = optim.Adam(model.parameters(), lr=learning_rate)\n",
    "    criterion = nn.CrossEntropyLoss()\n",
    "    \n",
    "    # Define model\n",
    "    input_size = X_train.shape[1]\n",
    "    model = FusionNN(input_size=input_size, num_classes=4)  # Adjust num_classes based on final labels\n",
    "    optimizer = optim.Adam(model.parameters(), lr=learning_rate)\n",
    "    criterion = nn.CrossEntropyLoss()\n",
    "\n",
    "   "
   ]
  },
  {
   "cell_type": "code",
   "execution_count": null,
   "id": "39939aa3-002f-43a0-b7d4-f62a1fa51e42",
   "metadata": {},
   "outputs": [],
   "source": []
  }
 ],
 "metadata": {
  "kernelspec": {
   "display_name": "Python 3 (ipykernel)",
   "language": "python",
   "name": "python3"
  },
  "language_info": {
   "codemirror_mode": {
    "name": "ipython",
    "version": 3
   },
   "file_extension": ".py",
   "mimetype": "text/x-python",
   "name": "python",
   "nbconvert_exporter": "python",
   "pygments_lexer": "ipython3",
   "version": "3.9.7"
  }
 },
 "nbformat": 4,
 "nbformat_minor": 5
}
